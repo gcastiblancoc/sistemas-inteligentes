{
  "cells": [
    {
      "cell_type": "markdown",
      "metadata": {
        "id": "view-in-github",
        "colab_type": "text"
      },
      "source": [
        "<a href=\"https://colab.research.google.com/github/gcastiblancoc/sistemas-inteligentes/blob/main/Copia_de_Practica_3_5.ipynb\" target=\"_parent\"><img src=\"https://colab.research.google.com/assets/colab-badge.svg\" alt=\"Open In Colab\"/></a>"
      ]
    },
    {
      "cell_type": "markdown",
      "metadata": {
        "id": "369Zy63Yebld"
      },
      "source": [
        "# Práctica 3.5\n",
        "### [Introducción a los sistemas inteligentes](https://fagonzalezo.github.io/)\n",
        "___________\n",
        "\n",
        "**Instrucciones de envío:**\n",
        "\n",
        "Este notebook debe enviarse a través del siguiente [File Request](https://www.dropbox.com/request/0zhMgxCML3Q8tSG35kbE) antes del final de la clase. El archivo debe nombrarse como  `isi-practica3.5-unalusername1-unalusername2-unalusername3.ipynb`, donde unalusername es el nombre de usuario asignado por la universidad de cada uno de los miembros del grupo.\n",
        "\n",
        "**Grupo de trabajo:**\n",
        "\n",
        "* Nombre1 usuariounal1\n",
        "* Nombre2 usuariounal2\n",
        "* Nombre3 usuariounal3\n",
        "\n",
        "___________\n",
        "\n",
        "## Triple Cross Puzzle\n",
        "\n",
        "El *Triple Cross* es un rompecabezas diseñado por la empresa Binary Arts.\n",
        "\n",
        "<img src=\"https://www.cs.brandeis.edu/~storer/JimPuzzles/SLIDE/PortToPort/TripleCrossPhoto-TN.jpg\"\n",
        "alt=\"Triple Cross \" width=\"240\" height=\"180\" border=\"10\" />\n",
        "\n",
        "Aquí puede encontrar más detalles: https://www.jaapsch.net/puzzles/port.htm.\n",
        "\n",
        "Su objetivo es modelar el *Triple Cross* como un problema de búsqueda y resolverlo usando diferentes algoritmos de búsqueda.\n",
        "\n",
        "_________\n"
      ]
    },
    {
      "cell_type": "markdown",
      "metadata": {
        "id": "cMu3BA2ceblf"
      },
      "source": [
        "### 1. Cree una clase para modelar el problema del Triple Cross"
      ]
    },
    {
      "cell_type": "markdown",
      "metadata": {
        "id": "WrdyJh3ueblu"
      },
      "source": [
        "Debe utilizar la plantilla de clase que se encuentra en la siguiente celda."
      ]
    },
    {
      "cell_type": "markdown",
      "metadata": {
        "id": "K5e9pPyHeblu"
      },
      "source": [
        "#### Clase TripleCross_problem"
      ]
    },
    {
      "cell_type": "code",
      "execution_count": 1,
      "metadata": {
        "id": "qbP_KBZ4eblw"
      },
      "outputs": [],
      "source": [
        "# This is the Problem class from AIMA, you don't have to modify it\n",
        "\n",
        "class Problem(object):\n",
        "    \"\"\"The abstract class for a formal problem. A new domain subclasses this,\n",
        "    overriding `actions` and `results`, and perhaps other methods.\n",
        "    The default heuristic is 0 and the default action cost is 1 for all states.\n",
        "    When yiou create an instance of a subclass, specify `initial`, and `goal` states\n",
        "    (or give an `is_goal` method) and perhaps other keyword args for the subclass.\"\"\"\n",
        "\n",
        "    def __init__(self, initial=None, goal=None, **kwds):\n",
        "        self.__dict__.update(initial=initial, goal=goal, **kwds)\n",
        "\n",
        "    def actions(self, state):        raise NotImplementedError\n",
        "    def result(self, state, action): raise NotImplementedError\n",
        "    def is_goal(self, state):        return state == self.goal\n",
        "    def action_cost(self, s, a, s1): return 1\n",
        "    def h(self, node):               return 0\n",
        "\n",
        "    def __str__(self):\n",
        "        return '{}({!r}, {!r})'.format(\n",
        "            type(self).__name__, self.initial, self.goal)\n",
        "\n",
        "\n",
        "class TripleCross_problem(Problem):\n",
        "\n",
        "    def __init__(self, initial):\n",
        "        '''\n",
        "        Store the initial state in the problem representation and any useful\n",
        "        data.\n",
        "        '''\n",
        "        self.expanded = 0\n",
        "        self.goal = () # your code here\n",
        "        super().__init__(initial=tuple(initial), goal=self.goal)\n",
        "\n",
        "    def actions(self, state):\n",
        "        \"\"\"Return a list of actions that can be executed in the given\n",
        "        state.\"\"\"\n",
        "\n",
        "        #your code here\n",
        "\n",
        "        return []\n",
        "\n",
        "    def result(self, state, action):\n",
        "        \"\"\"\n",
        "        Return the state that results from executing the given\n",
        "        action at the given state. The action must be one of\n",
        "        self.actions(state).\n",
        "        \"\"\"\n",
        "        new_state = list(state)  # Create a copy to avoid modifying the original state\n",
        "\n",
        "        # Your code here\n",
        "\n",
        "        return tuple(new_state)  # Return the new state as a tuple\n",
        "\n",
        "    def is_goal(self, state):\n",
        "        '''\n",
        "        Define when a given state is a goal state\n",
        "        '''\n",
        "        return state == self.goal\n",
        "\n",
        "    def action_cost(self, s, a, s1):\n",
        "        \"\"\"\n",
        "        Return the cost of a solution path that arrives at s1 from\n",
        "        state s via action a.\n",
        "        \"\"\"\n",
        "        return 1  # Uniform cost for all actions\n",
        "\n"
      ]
    },
    {
      "cell_type": "markdown",
      "metadata": {
        "id": "OQZ94Sq7ebl2"
      },
      "source": [
        "### 2. Evalue su código con diferentes estrategias de búsqueda\n",
        "\n"
      ]
    },
    {
      "cell_type": "markdown",
      "metadata": {
        "id": "RtOQ5gvwi3wE"
      },
      "source": [
        "Consulte el código en el repositorio de AIMA (https://github.com/aimacode/aima-python/blob/master/search4e.ipynb) y utilice las implementaciones de búsqueda en amplitud y búsqueda en profundidad iterativa.\n",
        "\n",
        "Pruebe varias configuraciones iniciales y pruebe cuál es la profundidad máxima que los métodos no informados pueden manejar."
      ]
    },
    {
      "cell_type": "code",
      "execution_count": null,
      "metadata": {
        "id": "fDHXsUUTebl3"
      },
      "outputs": [],
      "source": [
        "def bfs(problem):\n",
        "    \"\"\"\n",
        "    Perform a breadth-first search on the problem.\n",
        "    Return the list of actions to reach the goal state.\n",
        "    \"\"\"\n",
        "    ### your code here ###\n",
        "    return result\n",
        "\n",
        "def iterativeDeepeningSearch(problem):\n",
        "    \"\"\"\n",
        "    Perform an iterative deepening search on the problem.\n",
        "    Return the list of actions to reach the goal state.\n",
        "    \"\"\"\n",
        "    ### your code here ###\n",
        "    return result\n",
        "\n",
        "\n",
        "# Creates a problem instance to simulate some moves\n"
      ]
    },
    {
      "cell_type": "markdown",
      "metadata": {
        "id": "wbPp0Sy8ebl-"
      },
      "source": [
        "## 3. Implemente diferente heurísticas para el problema"
      ]
    },
    {
      "cell_type": "markdown",
      "metadata": {
        "collapsed": true,
        "id": "jxHUhCveebl-"
      },
      "source": [
        "Consulte el código en el repositorio de AIMA (https://github.com/aimacode/aima-python/blob/master/search4e.ipynb) y utilice la implementación de A*.\n",
        "\n",
        "Implemente al menos dos heurísticas admisibles y consistentes. Compare A * usando la heurística contra IDS calculando el número de nodos expandidos y el factor de ramificación efectivo, de la misma forma como se hace en la figura 3.29 de la 3ra edición de [Russell10]."
      ]
    },
    {
      "cell_type": "code",
      "source": [
        "def nullHeuristic(state):\n",
        "    return 0\n",
        "\n",
        "def aStarSearch(problem, h=nullHeuristic):\n",
        "    \"\"\"\n",
        "    Perform an A*t search on the problem.\n",
        "    Returns the list of actions to reach the goal state.\n",
        "    \"\"\"\n",
        "    ### your code here ###\n",
        "    return []\n",
        "\n",
        "def myHeuristic(state):\n",
        "    ### your code here ###\n",
        "    return 0\n",
        "\n"
      ],
      "metadata": {
        "id": "N9bZf1DooXUS"
      },
      "execution_count": null,
      "outputs": []
    },
    {
      "cell_type": "code",
      "execution_count": null,
      "metadata": {
        "id": "D_JyoQJ_i3wF"
      },
      "outputs": [],
      "source": []
    }
  ],
  "metadata": {
    "colab": {
      "provenance": [],
      "include_colab_link": true
    },
    "kernelspec": {
      "display_name": "base",
      "language": "python",
      "name": "python3"
    },
    "language_info": {
      "codemirror_mode": {
        "name": "ipython",
        "version": 3
      },
      "file_extension": ".py",
      "mimetype": "text/x-python",
      "name": "python",
      "nbconvert_exporter": "python",
      "pygments_lexer": "ipython3",
      "version": "3.10.12"
    }
  },
  "nbformat": 4,
  "nbformat_minor": 0
}